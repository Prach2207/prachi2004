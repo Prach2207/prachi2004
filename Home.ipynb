{
 "cells": [
  {
   "cell_type": "code",
   "execution_count": null,
   "id": "bd336a6d",
   "metadata": {},
   "outputs": [
    {
     "name": "stdout",
     "output_type": "stream",
     "text": [
      "select * from member ;\n",
      "view\n",
      "add\n"
     ]
    }
   ],
   "source": [
    "# %load home.py\n",
    "from tkinter import *\n",
    "import mysql.connector\n",
    "\n",
    "from add import *\n",
    "from delete import *\n",
    "from issue import * \n",
    "from Return import *\n",
    "from view import *\n",
    "from Addmem import *\n",
    "from viewmem import *\n",
    "\n",
    "db = mysql.connector.connect(host =\"localhost\",user = \"root\",password =\"password\" ,database='Library')\n",
    "cursor = db.cursor()\n",
    "\n",
    "window=Tk()\n",
    "window.title(\"Library Management System\")\n",
    "\n",
    "greet = Label(window, font = ('arial', 30, 'bold'), text = \"Welcome to Library!\")\n",
    "greet.grid(row = 0,columnspan = 3)\n",
    "\n",
    "addbtn=Button(window,text=\"Add Books\",command=addBooks,bg=\"DodgerBlue2\",fg=\"white\",font = ('arial', 20, 'bold'))\n",
    "addbtn.grid(row=3,columnspan=3)\n",
    "\n",
    "addbtn=Button(window,text=\"Add Members\",command=addmem,bg=\"DodgerBlue2\",fg=\"white\",font = ('arial', 20, 'bold'))\n",
    "addbtn.grid(row=5,columnspan=3)\n",
    "\n",
    "deletebtn=Button(window,text=\"Delete Books\",command=deleteBooks,bg=\"DodgerBlue2\",fg=\"white\",font = ('arial', 20, 'bold'))\n",
    "deletebtn.grid(row=7,columnspan=3)\n",
    "\n",
    "issuebtn=Button(window,text=\"Issue Books\",command=issueBooks,bg=\"DodgerBlue2\",fg=\"white\",font = ('arial', 20, 'bold'))\n",
    "issuebtn.grid(row=9,columnspan=3)\n",
    "\n",
    "returnbtn=Button(window,text=\"Return Books\",command=returnBooks,bg=\"DodgerBlue2\",fg=\"white\",font = ('arial', 20, 'bold'))\n",
    "returnbtn.grid(row=11,columnspan=3)\n",
    "\n",
    "viewbtn=Button(window,text=\"View Books\",command=viewBooks,bg=\"DodgerBlue2\",fg=\"white\",font = ('arial', 20, 'bold'))\n",
    "viewbtn.grid(row=13,columnspan=3)\n",
    "\n",
    "viewbtn=Button(window,text=\"View Members\",command=viewmem,bg=\"DodgerBlue2\",fg=\"white\",font = ('arial', 20, 'bold'))\n",
    "viewbtn.grid(row=15,columnspan=3)\n",
    "\n",
    "greet = Label(window, font = ('arial', 15, 'bold'), text = \"Thank you\")\n",
    "greet.grid(row = 17,columnspan = 3)\n",
    "\n",
    "window.mainloop()\n"
   ]
  },
  {
   "cell_type": "code",
   "execution_count": null,
   "id": "5cc6d2ba",
   "metadata": {},
   "outputs": [],
   "source": []
  },
  {
   "cell_type": "code",
   "execution_count": null,
   "id": "c1efdd14",
   "metadata": {},
   "outputs": [],
   "source": []
  }
 ],
 "metadata": {
  "kernelspec": {
   "display_name": "Python 3 (ipykernel)",
   "language": "python",
   "name": "python3"
  },
  "language_info": {
   "codemirror_mode": {
    "name": "ipython",
    "version": 3
   },
   "file_extension": ".py",
   "mimetype": "text/x-python",
   "name": "python",
   "nbconvert_exporter": "python",
   "pygments_lexer": "ipython3",
   "version": "3.9.7"
  }
 },
 "nbformat": 4,
 "nbformat_minor": 5
}
